{
 "cells": [
  {
   "cell_type": "code",
   "execution_count": null,
   "metadata": {},
   "outputs": [],
   "source": [
    "%pip install transformer_lens\n",
    "%pip install wandb"
   ]
  },
  {
   "cell_type": "code",
   "execution_count": 5,
   "metadata": {},
   "outputs": [
    {
     "ename": "NameError",
     "evalue": "name 'ReplayMemory' is not defined",
     "output_type": "error",
     "traceback": [
      "\u001b[0;31m---------------------------------------------------------------------------\u001b[0m",
      "\u001b[0;31mNameError\u001b[0m                                 Traceback (most recent call last)",
      "Cell \u001b[0;32mIn [5], line 1\u001b[0m\n\u001b[0;32m----> 1\u001b[0m \u001b[38;5;28;01mfrom\u001b[39;00m \u001b[38;5;21;01mRLHFTrainer\u001b[39;00m \u001b[38;5;28;01mimport\u001b[39;00m RLHFTrainer\n\u001b[1;32m      2\u001b[0m \u001b[38;5;28;01mfrom\u001b[39;00m \u001b[38;5;21;01mutils\u001b[39;00m \u001b[38;5;28;01mimport\u001b[39;00m RLHFTrainingArgs\n",
      "File \u001b[0;32m~/Desktop/rlhf/RLHFTrainer.py:264\u001b[0m\n\u001b[1;32m    259\u001b[0m     \u001b[38;5;28;01mreturn\u001b[39;00m optimizer, scheduler\n\u001b[1;32m    263\u001b[0m \u001b[38;5;66;03m# main class definition, used to train the RLHF model\u001b[39;00m\n\u001b[0;32m--> 264\u001b[0m \u001b[38;5;28;01mclass\u001b[39;00m \u001b[38;5;21;01mRLHFTrainer\u001b[39;00m:\n\u001b[1;32m    265\u001b[0m     model: TransformerWithValueHead\n\u001b[1;32m    266\u001b[0m     ref_model: HookedTransformer\n",
      "File \u001b[0;32m~/Desktop/rlhf/RLHFTrainer.py:267\u001b[0m, in \u001b[0;36mRLHFTrainer\u001b[0;34m()\u001b[0m\n\u001b[1;32m    265\u001b[0m model: TransformerWithValueHead\n\u001b[1;32m    266\u001b[0m ref_model: HookedTransformer\n\u001b[0;32m--> 267\u001b[0m memory: \u001b[43mReplayMemory\u001b[49m \u001b[38;5;66;03m# we'll set this during rollout\u001b[39;00m\n\u001b[1;32m    269\u001b[0m \u001b[38;5;28;01mdef\u001b[39;00m \u001b[38;5;21m__init__\u001b[39m(\u001b[38;5;28mself\u001b[39m, args: RLHFTrainingArgs):\n\u001b[1;32m    270\u001b[0m     t\u001b[38;5;241m.\u001b[39mmanual_seed(args\u001b[38;5;241m.\u001b[39mseed)\n",
      "\u001b[0;31mNameError\u001b[0m: name 'ReplayMemory' is not defined"
     ]
    }
   ],
   "source": [
    "from trainer import RLHFTrainer\n",
    "from utils import RLHFTrainingArgs"
   ]
  },
  {
   "cell_type": "code",
   "execution_count": null,
   "metadata": {},
   "outputs": [],
   "source": [
    "args = RLHFTrainingArgs(use_wandb=False)\n",
    "trainer = RLHFTrainer(args)\n",
    "trainer.train()"
   ]
  }
 ],
 "metadata": {
  "kernelspec": {
   "display_name": "Python 3",
   "language": "python",
   "name": "python3"
  },
  "language_info": {
   "codemirror_mode": {
    "name": "ipython",
    "version": 3
   },
   "file_extension": ".py",
   "mimetype": "text/x-python",
   "name": "python",
   "nbconvert_exporter": "python",
   "pygments_lexer": "ipython3",
   "version": "3.10.8"
  }
 },
 "nbformat": 4,
 "nbformat_minor": 2
}
